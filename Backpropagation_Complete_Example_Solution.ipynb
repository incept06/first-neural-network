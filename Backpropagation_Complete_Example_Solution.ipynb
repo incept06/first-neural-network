{
 "cells": [
  {
   "cell_type": "markdown",
   "metadata": {
    "colab_type": "text",
    "id": "_B4-Tfgt7L9r"
   },
   "source": [
    "# Backpropagation Complete Example\n",
    "\n",
    "Adapted from Udacity."
   ]
  },
  {
   "cell_type": "markdown",
   "metadata": {
    "colab_type": "text",
    "id": "CgwuKzqo7x_8"
   },
   "source": [
    "## Task: Imports"
   ]
  },
  {
   "cell_type": "code",
   "execution_count": 1,
   "metadata": {
    "colab": {},
    "colab_type": "code",
    "id": "pPxBLx_y7Hx9"
   },
   "outputs": [],
   "source": [
    "import numpy as np\n",
    "import pandas as pd"
   ]
  },
  {
   "cell_type": "markdown",
   "metadata": {
    "colab_type": "text",
    "id": "-UlXyvmH7hw3"
   },
   "source": [
    "## Read and explore the data"
   ]
  },
  {
   "cell_type": "code",
   "execution_count": 2,
   "metadata": {
    "colab": {
     "base_uri": "https://localhost:8080/",
     "height": 178
    },
    "colab_type": "code",
    "id": "cV03Qc7Y7h79",
    "outputId": "f5bca874-c2d3-4449-badc-e716b78002da"
   },
   "outputs": [],
   "source": [
    "admissions=pd.read_csv(\"https://stats.idre.ucla.edu/stat/data/binary.csv\")"
   ]
  },
  {
   "cell_type": "code",
   "execution_count": 3,
   "metadata": {},
   "outputs": [
    {
     "data": {
      "text/plain": [
       "400"
      ]
     },
     "execution_count": 3,
     "metadata": {},
     "output_type": "execute_result"
    }
   ],
   "source": [
    "data = pd.concat([admissions, pd.get_dummies(admissions['rank'], prefix='rank')], axis=1)\n",
    "data = data.drop('rank', axis=1)\n",
    "len(data)\n"
   ]
  },
  {
   "cell_type": "code",
   "execution_count": 4,
   "metadata": {},
   "outputs": [
    {
     "data": {
      "text/html": [
       "<div>\n",
       "<style scoped>\n",
       "    .dataframe tbody tr th:only-of-type {\n",
       "        vertical-align: middle;\n",
       "    }\n",
       "\n",
       "    .dataframe tbody tr th {\n",
       "        vertical-align: top;\n",
       "    }\n",
       "\n",
       "    .dataframe thead th {\n",
       "        text-align: right;\n",
       "    }\n",
       "</style>\n",
       "<table border=\"1\" class=\"dataframe\">\n",
       "  <thead>\n",
       "    <tr style=\"text-align: right;\">\n",
       "      <th></th>\n",
       "      <th>admit</th>\n",
       "      <th>gre</th>\n",
       "      <th>gpa</th>\n",
       "      <th>rank_1</th>\n",
       "      <th>rank_2</th>\n",
       "      <th>rank_3</th>\n",
       "      <th>rank_4</th>\n",
       "    </tr>\n",
       "  </thead>\n",
       "  <tbody>\n",
       "    <tr>\n",
       "      <th>0</th>\n",
       "      <td>0</td>\n",
       "      <td>380</td>\n",
       "      <td>3.61</td>\n",
       "      <td>0</td>\n",
       "      <td>0</td>\n",
       "      <td>1</td>\n",
       "      <td>0</td>\n",
       "    </tr>\n",
       "    <tr>\n",
       "      <th>1</th>\n",
       "      <td>1</td>\n",
       "      <td>660</td>\n",
       "      <td>3.67</td>\n",
       "      <td>0</td>\n",
       "      <td>0</td>\n",
       "      <td>1</td>\n",
       "      <td>0</td>\n",
       "    </tr>\n",
       "    <tr>\n",
       "      <th>2</th>\n",
       "      <td>1</td>\n",
       "      <td>800</td>\n",
       "      <td>4.00</td>\n",
       "      <td>1</td>\n",
       "      <td>0</td>\n",
       "      <td>0</td>\n",
       "      <td>0</td>\n",
       "    </tr>\n",
       "    <tr>\n",
       "      <th>3</th>\n",
       "      <td>1</td>\n",
       "      <td>640</td>\n",
       "      <td>3.19</td>\n",
       "      <td>0</td>\n",
       "      <td>0</td>\n",
       "      <td>0</td>\n",
       "      <td>1</td>\n",
       "    </tr>\n",
       "    <tr>\n",
       "      <th>4</th>\n",
       "      <td>0</td>\n",
       "      <td>520</td>\n",
       "      <td>2.93</td>\n",
       "      <td>0</td>\n",
       "      <td>0</td>\n",
       "      <td>0</td>\n",
       "      <td>1</td>\n",
       "    </tr>\n",
       "  </tbody>\n",
       "</table>\n",
       "</div>"
      ],
      "text/plain": [
       "   admit  gre   gpa  rank_1  rank_2  rank_3  rank_4\n",
       "0      0  380  3.61       0       0       1       0\n",
       "1      1  660  3.67       0       0       1       0\n",
       "2      1  800  4.00       1       0       0       0\n",
       "3      1  640  3.19       0       0       0       1\n",
       "4      0  520  2.93       0       0       0       1"
      ]
     },
     "execution_count": 4,
     "metadata": {},
     "output_type": "execute_result"
    }
   ],
   "source": [
    "data.head()"
   ]
  },
  {
   "cell_type": "code",
   "execution_count": 5,
   "metadata": {},
   "outputs": [],
   "source": [
    "# Standarize features\n",
    "for field in ['gre', 'gpa']:\n",
    "    mean, std = data[field].mean(), data[field].std()\n",
    "    data.loc[:,field] = (data[field]-mean)/std\n"
   ]
  },
  {
   "cell_type": "code",
   "execution_count": 6,
   "metadata": {},
   "outputs": [],
   "source": [
    "# Split off random 10% of the data for testing\n",
    "sample = np.random.choice(data.index, size=int(len(data)*0.8), replace=False)\n",
    "data, test_data = data.loc[sample], data.drop(sample)\n",
    "#print(len(data))\n"
   ]
  },
  {
   "cell_type": "code",
   "execution_count": 7,
   "metadata": {},
   "outputs": [
    {
     "data": {
      "text/plain": [
       "80"
      ]
     },
     "execution_count": 7,
     "metadata": {},
     "output_type": "execute_result"
    }
   ],
   "source": [
    "# Split into features and targets\n",
    "features, targets = data.drop('admit', axis=1), data['admit']\n",
    "features_test, targets_test = test_data.drop('admit', axis=1), test_data['admit']\n",
    "len(features_test)"
   ]
  },
  {
   "cell_type": "code",
   "execution_count": 8,
   "metadata": {},
   "outputs": [
    {
     "data": {
      "text/plain": [
       "80"
      ]
     },
     "execution_count": 8,
     "metadata": {},
     "output_type": "execute_result"
    }
   ],
   "source": [
    "len(targets_test)"
   ]
  },
  {
   "cell_type": "markdown",
   "metadata": {
    "colab_type": "text",
    "id": "036JI4RO7iHK"
   },
   "source": [
    "## Activation"
   ]
  },
  {
   "cell_type": "code",
   "execution_count": 9,
   "metadata": {
    "colab": {},
    "colab_type": "code",
    "id": "vuwHl1Oy73xV"
   },
   "outputs": [],
   "source": [
    "def sigmoid(x):\n",
    "    return 1 / (1 + np.exp(-x))"
   ]
  },
  {
   "cell_type": "markdown",
   "metadata": {
    "colab_type": "text",
    "id": "58rF_JlM75Iw"
   },
   "source": [
    "## Hyper-parameters"
   ]
  },
  {
   "cell_type": "code",
   "execution_count": 10,
   "metadata": {
    "colab": {},
    "colab_type": "code",
    "id": "GWzScU7975gT"
   },
   "outputs": [],
   "source": [
    "n_hidden = 3  # number of hidden units\n",
    "epochs = 1000\n",
    "learnrate = 0.05"
   ]
  },
  {
   "cell_type": "markdown",
   "metadata": {
    "colab_type": "text",
    "id": "IaJ0BMJu8BeT"
   },
   "source": [
    "## Initialise"
   ]
  },
  {
   "cell_type": "code",
   "execution_count": 11,
   "metadata": {
    "colab": {},
    "colab_type": "code",
    "id": "GrgyBL2d8Blz"
   },
   "outputs": [],
   "source": [
    "n_records, n_features = features.shape\n",
    "last_loss = None\n",
    "\n",
    "# Initialize weights\n",
    "weights_input_hidden = np.random.normal(scale=1 / n_features ** .5,\n",
    "                                        size=(n_features, n_hidden))\n",
    "weights_hidden_output = np.random.normal(scale=1 / n_features ** .5,\n",
    "                                         size=n_hidden)"
   ]
  },
  {
   "cell_type": "code",
   "execution_count": 12,
   "metadata": {
    "colab": {
     "base_uri": "https://localhost:8080/",
     "height": 119
    },
    "colab_type": "code",
    "id": "wANflUUU8rK0",
    "outputId": "670b6acd-1f36-45bd-cca0-ea1b3d0b3ece"
   },
   "outputs": [
    {
     "data": {
      "text/plain": [
       "array([[-0.23346402, -0.08974051,  0.6593675 ],\n",
       "       [-0.18514447,  0.0969839 ,  0.04724568],\n",
       "       [ 0.85682748, -0.22626293,  0.54654298],\n",
       "       [-0.23900173,  0.00499819, -0.03398636],\n",
       "       [ 0.23954521,  0.02599745, -0.77950897],\n",
       "       [ 0.48109653,  0.50007996,  0.37404025]])"
      ]
     },
     "execution_count": 12,
     "metadata": {},
     "output_type": "execute_result"
    }
   ],
   "source": [
    "weights_input_hidden"
   ]
  },
  {
   "cell_type": "code",
   "execution_count": 13,
   "metadata": {
    "colab": {
     "base_uri": "https://localhost:8080/",
     "height": 34
    },
    "colab_type": "code",
    "id": "n3sD9LDV8sx8",
    "outputId": "5a3699cd-a767-4fdd-b890-e80bca103422"
   },
   "outputs": [
    {
     "data": {
      "text/plain": [
       "array([-1.14562003,  0.11260254, -0.23762284])"
      ]
     },
     "execution_count": 13,
     "metadata": {},
     "output_type": "execute_result"
    }
   ],
   "source": [
    "weights_hidden_output"
   ]
  },
  {
   "cell_type": "markdown",
   "metadata": {
    "colab_type": "text",
    "id": "btOT28TW8DiB"
   },
   "source": [
    "## Epochs"
   ]
  },
  {
   "cell_type": "code",
   "execution_count": 14,
   "metadata": {
    "colab": {
     "base_uri": "https://localhost:8080/",
     "height": 187
    },
    "colab_type": "code",
    "id": "T1d-0xlN7iQb",
    "outputId": "1c696ea3-dd10-45bb-e071-aadcc942c82c"
   },
   "outputs": [
    {
     "name": "stdout",
     "output_type": "stream",
     "text": [
      "Train loss:  0.21722495232867667\n",
      "Train loss:  0.22110515050395602   WARNING - Loss Increasing\n",
      "Train loss:  0.22438202713738714   WARNING - Loss Increasing\n",
      "Train loss:  0.2278292865421808   WARNING - Loss Increasing\n",
      "Train loss:  0.23094465782614093   WARNING - Loss Increasing\n",
      "Train loss:  0.2331653983673942   WARNING - Loss Increasing\n",
      "Train loss:  0.23465550582883682   WARNING - Loss Increasing\n",
      "Train loss:  0.23565062346904114   WARNING - Loss Increasing\n",
      "Train loss:  0.2363181313775491   WARNING - Loss Increasing\n",
      "Train loss:  0.23676808386657058   WARNING - Loss Increasing\n"
     ]
    }
   ],
   "source": [
    "# Iterate over the epochs\n",
    "for e in range(epochs):\n",
    "  \n",
    "    # Initialise the weights\n",
    "    del_w_input_hidden = np.zeros(weights_input_hidden.shape)\n",
    "    del_w_hidden_output = np.zeros(weights_hidden_output.shape)\n",
    "    \n",
    "    # Iterate over each training example\n",
    "    for x, y in zip(features.values, targets):\n",
    "        \n",
    "        # *******************\n",
    "        ## Forward pass ##\n",
    "        # *******************\n",
    "        \n",
    "        hidden_input = np.dot(x,weights_input_hidden)\n",
    "        hidden_activations = sigmoid(hidden_input)\n",
    "        output = sigmoid(np.dot(hidden_activations,weights_hidden_output))\n",
    "\n",
    "        # *******************\n",
    "        ## Backward pass ##\n",
    "        # *******************\n",
    "        \n",
    "        # The network error on this particular example\n",
    "        error = y - output\n",
    "\n",
    "        # Output error\n",
    "        output_error = error * output * (1-output)\n",
    "\n",
    "        # propagate errors to hidden layer\n",
    "        hidden_error = weights_hidden_output * output_error * hidden_activations * (1-hidden_activations) \n",
    "\n",
    "        # Update the change in weights\n",
    "        del_w_hidden_output += output_error * hidden_activations\n",
    "        del_w_input_hidden += hidden_error * x[:,None]\n",
    "\n",
    "    # Actual weight updates. Dividing by n_records to deal with\n",
    "    # potentially large gradient steps\n",
    "    weights_input_hidden += (learnrate * del_w_input_hidden) / n_features\n",
    "    weights_hidden_output += (learnrate * del_w_hidden_output) / n_features\n",
    "\n",
    "    # Printing out the mean square error on the training set\n",
    "    if e % (epochs / 10) == 0:\n",
    "        hidden_activations = sigmoid(np.dot(x, weights_input_hidden))\n",
    "        \n",
    "        # Get the network output\n",
    "        out = sigmoid(np.dot(hidden_activations,\n",
    "                             weights_hidden_output))\n",
    "        \n",
    "        # Compute the loss\n",
    "        loss = np.mean((out - targets) ** 2)\n",
    "\n",
    "        # Check the current loss with the previous one\n",
    "        if last_loss and last_loss < loss:\n",
    "            print(\"Train loss: \", loss, \"  WARNING - Loss Increasing\")\n",
    "        else:\n",
    "            print(\"Train loss: \", loss)\n",
    "        last_loss = loss"
   ]
  },
  {
   "cell_type": "markdown",
   "metadata": {
    "colab_type": "text",
    "id": "f-CFIarr8Uoi"
   },
   "source": [
    "## Calculate accuracy on test data"
   ]
  },
  {
   "cell_type": "code",
   "execution_count": 15,
   "metadata": {
    "colab": {
     "base_uri": "https://localhost:8080/",
     "height": 289
    },
    "colab_type": "code",
    "id": "6S_fWu578Uwf",
    "outputId": "989fdc06-0df9-4d2c-967e-78700809de73"
   },
   "outputs": [
    {
     "data": {
      "text/plain": [
       "array([0.40421174, 0.46727118, 0.35719155, 0.55292575, 0.53333644,\n",
       "       0.4123639 , 0.12720518, 0.31720205, 0.35588315, 0.1389227 ,\n",
       "       0.13130408, 0.33587769, 0.17687528, 0.25148716, 0.59183319,\n",
       "       0.51856127, 0.24322714, 0.27005792, 0.39055674, 0.22873377,\n",
       "       0.34021111, 0.13349704, 0.49318255, 0.11720866, 0.20478201,\n",
       "       0.57019238, 0.26529465, 0.28496408, 0.13685809, 0.34562524,\n",
       "       0.26124425, 0.37392596, 0.19126207, 0.44021832, 0.41860888,\n",
       "       0.31390432, 0.40582673, 0.20051206, 0.25578747, 0.13188978,\n",
       "       0.53213117, 0.31211045, 0.64697505, 0.36274341, 0.2835452 ,\n",
       "       0.20153301, 0.36406206, 0.27338424, 0.15199159, 0.22543688,\n",
       "       0.37703438, 0.60398515, 0.18920154, 0.21667266, 0.28074239,\n",
       "       0.35709675, 0.23084866, 0.26040461, 0.39318371, 0.37490659,\n",
       "       0.25900416, 0.37080982, 0.36445976, 0.27751615, 0.14740057,\n",
       "       0.17725608, 0.13669814, 0.34537126, 0.4056822 , 0.53162633,\n",
       "       0.15152266, 0.57276052, 0.45257804, 0.5932857 , 0.37142621,\n",
       "       0.12409566, 0.3804563 , 0.18477411, 0.41662723, 0.34814071])"
      ]
     },
     "execution_count": 15,
     "metadata": {},
     "output_type": "execute_result"
    }
   ],
   "source": [
    "hidden = sigmoid(np.dot(features_test, weights_input_hidden))\n",
    "out = sigmoid(np.dot(hidden, weights_hidden_output))\n",
    "out"
   ]
  },
  {
   "cell_type": "markdown",
   "metadata": {
    "colab_type": "text",
    "id": "dh5TyOPB8U5F"
   },
   "source": [
    "## Predict"
   ]
  },
  {
   "cell_type": "code",
   "execution_count": 16,
   "metadata": {
    "colab": {
     "base_uri": "https://localhost:8080/",
     "height": 170
    },
    "colab_type": "code",
    "id": "pl20zl498VA0",
    "outputId": "0612fd17-68e9-4335-b3dd-e5d8afc5ed4b"
   },
   "outputs": [
    {
     "data": {
      "text/plain": [
       "array([False, False, False,  True,  True, False, False, False, False,\n",
       "       False, False, False, False, False,  True,  True, False, False,\n",
       "       False, False, False, False, False, False, False,  True, False,\n",
       "       False, False, False, False, False, False, False, False, False,\n",
       "       False, False, False, False,  True, False,  True, False, False,\n",
       "       False, False, False, False, False, False,  True, False, False,\n",
       "       False, False, False, False, False, False, False, False, False,\n",
       "       False, False, False, False, False, False,  True, False,  True,\n",
       "       False,  True, False, False, False, False, False, False])"
      ]
     },
     "execution_count": 16,
     "metadata": {},
     "output_type": "execute_result"
    }
   ],
   "source": [
    "predictions = out > 0.5\n",
    "predictions"
   ]
  },
  {
   "cell_type": "markdown",
   "metadata": {
    "colab_type": "text",
    "id": "W7kIxkEk8gG3"
   },
   "source": [
    "## Compute accuracy"
   ]
  },
  {
   "cell_type": "code",
   "execution_count": 17,
   "metadata": {
    "colab": {
     "base_uri": "https://localhost:8080/",
     "height": 34
    },
    "colab_type": "code",
    "id": "RUTUD7wr7q2x",
    "outputId": "6f00cb6d-67c3-4a4b-f766-05d00d8c03a8"
   },
   "outputs": [
    {
     "name": "stdout",
     "output_type": "stream",
     "text": [
      "Prediction accuracy: 0.650\n"
     ]
    }
   ],
   "source": [
    "accuracy = np.mean(predictions == targets_test)\n",
    "print(\"Prediction accuracy: {:.3f}\".format(accuracy))"
   ]
  },
  {
   "cell_type": "code",
   "execution_count": 0,
   "metadata": {
    "colab": {},
    "colab_type": "code",
    "id": "RBl8qe348i9Z"
   },
   "outputs": [],
   "source": []
  }
 ],
 "metadata": {
  "colab": {
   "collapsed_sections": [],
   "name": "Backpropagation Complete Example - Solution",
   "provenance": [],
   "toc_visible": true,
   "version": "0.3.2"
  },
  "kernelspec": {
   "display_name": "Python [default]",
   "language": "python",
   "name": "python3"
  },
  "language_info": {
   "codemirror_mode": {
    "name": "ipython",
    "version": 3
   },
   "file_extension": ".py",
   "mimetype": "text/x-python",
   "name": "python",
   "nbconvert_exporter": "python",
   "pygments_lexer": "ipython3",
   "version": "3.5.6"
  }
 },
 "nbformat": 4,
 "nbformat_minor": 1
}
