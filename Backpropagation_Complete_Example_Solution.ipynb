{
 "cells": [
  {
   "cell_type": "markdown",
   "metadata": {
    "colab_type": "text",
    "id": "_B4-Tfgt7L9r"
   },
   "source": [
    "# Backpropagation Complete Example\n",
    "\n",
    "Adapted from Udacity."
   ]
  },
  {
   "cell_type": "markdown",
   "metadata": {
    "colab_type": "text",
    "id": "CgwuKzqo7x_8"
   },
   "source": [
    "## Task: Imports"
   ]
  },
  {
   "cell_type": "code",
   "execution_count": 0,
   "metadata": {
    "colab": {},
    "colab_type": "code",
    "id": "pPxBLx_y7Hx9"
   },
   "outputs": [],
   "source": [
    "import numpy as np\n",
    "import pandas as pd"
   ]
  },
  {
   "cell_type": "markdown",
   "metadata": {
    "colab_type": "text",
    "id": "-UlXyvmH7hw3"
   },
   "source": [
    "## Read and explore the data"
   ]
  },
  {
   "cell_type": "code",
   "execution_count": 0,
   "metadata": {
    "colab": {
     "base_uri": "https://localhost:8080/",
     "height": 178
    },
    "colab_type": "code",
    "id": "cV03Qc7Y7h79",
    "outputId": "f5bca874-c2d3-4449-badc-e716b78002da"
   },
   "outputs": [
    {
     "name": "stderr",
     "output_type": "stream",
     "text": [
      "/usr/local/lib/python3.6/dist-packages/ipykernel_launcher.py:16: DeprecationWarning: \n",
      ".ix is deprecated. Please use\n",
      ".loc for label based indexing or\n",
      ".iloc for positional indexing\n",
      "\n",
      "See the documentation here:\n",
      "http://pandas.pydata.org/pandas-docs/stable/indexing.html#ix-indexer-is-deprecated\n",
      "  app.launch_new_instance()\n"
     ]
    }
   ],
   "source": [
    "url=\"https://stats.idre.ucla.edu/stat/data/binary.csv\"\n",
    "admissions=pd.read_csv(url)\n",
    "\n",
    "# Make dummy variables for rank\n",
    "data = pd.concat([admissions, pd.get_dummies(admissions['rank'], prefix='rank')], axis=1)\n",
    "data = data.drop('rank', axis=1)\n",
    "\n",
    "# Standarize features\n",
    "for field in ['gre', 'gpa']:\n",
    "    mean, std = data[field].mean(), data[field].std()\n",
    "    data.loc[:,field] = (data[field]-mean)/std\n",
    "    \n",
    "# Split off random 10% of the data for testing\n",
    "\n",
    "sample = np.random.choice(data.index, size=int(len(data)*0.8), replace=False)\n",
    "data, test_data = data.ix[sample], data.drop(sample)\n",
    "\n",
    "# Split into features and targets\n",
    "features, targets = data.drop('admit', axis=1), data['admit']\n",
    "features_test, targets_test = test_data.drop('admit', axis=1), test_data['admit']"
   ]
  },
  {
   "cell_type": "markdown",
   "metadata": {
    "colab_type": "text",
    "id": "036JI4RO7iHK"
   },
   "source": [
    "## Activation"
   ]
  },
  {
   "cell_type": "code",
   "execution_count": 0,
   "metadata": {
    "colab": {},
    "colab_type": "code",
    "id": "vuwHl1Oy73xV"
   },
   "outputs": [],
   "source": [
    "def sigmoid(x):\n",
    "    return 1 / (1 + np.exp(-x))"
   ]
  },
  {
   "cell_type": "markdown",
   "metadata": {
    "colab_type": "text",
    "id": "58rF_JlM75Iw"
   },
   "source": [
    "## Hyper-parameters"
   ]
  },
  {
   "cell_type": "code",
   "execution_count": 0,
   "metadata": {
    "colab": {},
    "colab_type": "code",
    "id": "GWzScU7975gT"
   },
   "outputs": [],
   "source": [
    "n_hidden = 3  # number of hidden units\n",
    "epochs = 1000\n",
    "learnrate = 0.05"
   ]
  },
  {
   "cell_type": "markdown",
   "metadata": {
    "colab_type": "text",
    "id": "IaJ0BMJu8BeT"
   },
   "source": [
    "## Initialise"
   ]
  },
  {
   "cell_type": "code",
   "execution_count": 0,
   "metadata": {
    "colab": {},
    "colab_type": "code",
    "id": "GrgyBL2d8Blz"
   },
   "outputs": [],
   "source": [
    "n_records, n_features = features.shape\n",
    "last_loss = None\n",
    "\n",
    "# Initialize weights\n",
    "weights_input_hidden = np.random.normal(scale=1 / n_features ** .5,\n",
    "                                        size=(n_features, n_hidden))\n",
    "weights_hidden_output = np.random.normal(scale=1 / n_features ** .5,\n",
    "                                         size=n_hidden)"
   ]
  },
  {
   "cell_type": "code",
   "execution_count": 0,
   "metadata": {
    "colab": {
     "base_uri": "https://localhost:8080/",
     "height": 119
    },
    "colab_type": "code",
    "id": "wANflUUU8rK0",
    "outputId": "670b6acd-1f36-45bd-cca0-ea1b3d0b3ece"
   },
   "outputs": [
    {
     "data": {
      "text/plain": [
       "array([[-0.88414475, -0.49050136, -0.46947263],\n",
       "       [-0.2318007 ,  0.0900469 ,  0.5599944 ],\n",
       "       [-0.69354118, -0.54641469,  0.42496867],\n",
       "       [-0.24722968, -0.12128233, -0.00486424],\n",
       "       [-0.48868866, -0.29390022,  0.33031747],\n",
       "       [-0.33760577, -1.44261469, -0.02199874]])"
      ]
     },
     "execution_count": 6,
     "metadata": {
      "tags": []
     },
     "output_type": "execute_result"
    }
   ],
   "source": [
    "weights_input_hidden"
   ]
  },
  {
   "cell_type": "code",
   "execution_count": 0,
   "metadata": {
    "colab": {
     "base_uri": "https://localhost:8080/",
     "height": 34
    },
    "colab_type": "code",
    "id": "n3sD9LDV8sx8",
    "outputId": "5a3699cd-a767-4fdd-b890-e80bca103422"
   },
   "outputs": [
    {
     "data": {
      "text/plain": [
       "array([ 0.42940786, -0.35934767, -0.58729263])"
      ]
     },
     "execution_count": 7,
     "metadata": {
      "tags": []
     },
     "output_type": "execute_result"
    }
   ],
   "source": [
    "weights_hidden_output"
   ]
  },
  {
   "cell_type": "markdown",
   "metadata": {
    "colab_type": "text",
    "id": "btOT28TW8DiB"
   },
   "source": [
    "## Epochs"
   ]
  },
  {
   "cell_type": "code",
   "execution_count": 0,
   "metadata": {
    "colab": {
     "base_uri": "https://localhost:8080/",
     "height": 187
    },
    "colab_type": "code",
    "id": "T1d-0xlN7iQb",
    "outputId": "1c696ea3-dd10-45bb-e071-aadcc942c82c"
   },
   "outputs": [
    {
     "name": "stdout",
     "output_type": "stream",
     "text": [
      "Train loss:  0.2289558383742399\n",
      "Train loss:  0.22839068774226695\n",
      "Train loss:  0.23110554350118218   WARNING - Loss Increasing\n",
      "Train loss:  0.23201962437407805   WARNING - Loss Increasing\n",
      "Train loss:  0.23212579813149015   WARNING - Loss Increasing\n",
      "Train loss:  0.23180531416973188\n",
      "Train loss:  0.23127915827447715\n",
      "Train loss:  0.2306840162638036\n",
      "Train loss:  0.23009183384847165\n",
      "Train loss:  0.2295275856401587\n"
     ]
    }
   ],
   "source": [
    "# Iterate over the epochs\n",
    "for e in range(epochs):\n",
    "  \n",
    "    # Initialise the weights\n",
    "    del_w_input_hidden = np.zeros(weights_input_hidden.shape)\n",
    "    del_w_hidden_output = np.zeros(weights_hidden_output.shape)\n",
    "    \n",
    "    # Iterate over each training example\n",
    "    for x, y in zip(features.values, targets):\n",
    "        \n",
    "        # *******************\n",
    "        ## Forward pass ##\n",
    "        # *******************\n",
    "        \n",
    "        hidden_input = np.dot(x,weights_input_hidden)\n",
    "        hidden_activations = sigmoid(hidden_input)\n",
    "        output = sigmoid(np.dot(hidden_activations,weights_hidden_output))\n",
    "\n",
    "        # *******************\n",
    "        ## Backward pass ##\n",
    "        # *******************\n",
    "        \n",
    "        # The network error on this particular example\n",
    "        error = y - output\n",
    "\n",
    "        # Output error\n",
    "        output_error = error * output * (1-output)\n",
    "\n",
    "        # propagate errors to hidden layer\n",
    "        hidden_error = weights_hidden_output * output_error * hidden_activations * (1-hidden_activations) \n",
    "\n",
    "        # Update the change in weights\n",
    "        del_w_hidden_output += output_error * hidden_activations\n",
    "        del_w_input_hidden += hidden_error * x[:,None]\n",
    "\n",
    "    # Actual weight updates. Dividing by n_records to deal with\n",
    "    # potentially large gradient steps\n",
    "    weights_input_hidden += (learnrate * del_w_input_hidden) / n_features\n",
    "    weights_hidden_output += (learnrate * del_w_hidden_output) / n_features\n",
    "\n",
    "    # Printing out the mean square error on the training set\n",
    "    if e % (epochs / 10) == 0:\n",
    "        hidden_activations = sigmoid(np.dot(x, weights_input_hidden))\n",
    "        \n",
    "        # Get the network output\n",
    "        out = sigmoid(np.dot(hidden_activations,\n",
    "                             weights_hidden_output))\n",
    "        \n",
    "        # Compute the loss\n",
    "        loss = np.mean((out - targets) ** 2)\n",
    "\n",
    "        # Check the current loss with the previous one\n",
    "        if last_loss and last_loss < loss:\n",
    "            print(\"Train loss: \", loss, \"  WARNING - Loss Increasing\")\n",
    "        else:\n",
    "            print(\"Train loss: \", loss)\n",
    "        last_loss = loss"
   ]
  },
  {
   "cell_type": "markdown",
   "metadata": {
    "colab_type": "text",
    "id": "f-CFIarr8Uoi"
   },
   "source": [
    "## Calculate accuracy on test data"
   ]
  },
  {
   "cell_type": "code",
   "execution_count": 0,
   "metadata": {
    "colab": {
     "base_uri": "https://localhost:8080/",
     "height": 289
    },
    "colab_type": "code",
    "id": "6S_fWu578Uwf",
    "outputId": "989fdc06-0df9-4d2c-967e-78700809de73"
   },
   "outputs": [
    {
     "data": {
      "text/plain": [
       "array([0.49544081, 0.35382272, 0.36894177, 0.37133832, 0.14252752,\n",
       "       0.33309823, 0.16692571, 0.1662274 , 0.33771036, 0.39052442,\n",
       "       0.4038268 , 0.22896877, 0.203722  , 0.49132056, 0.27142611,\n",
       "       0.15099789, 0.47927258, 0.40819385, 0.3775395 , 0.3560546 ,\n",
       "       0.22606235, 0.41216408, 0.24625831, 0.43054272, 0.15741595,\n",
       "       0.39066986, 0.18744467, 0.38571895, 0.185205  , 0.34512464,\n",
       "       0.38050809, 0.48869549, 0.24232709, 0.23769005, 0.40649368,\n",
       "       0.3825608 , 0.29023314, 0.47360245, 0.23762784, 0.40649368,\n",
       "       0.18438877, 0.30821819, 0.31603477, 0.20085038, 0.16232723,\n",
       "       0.4410694 , 0.33946466, 0.31640883, 0.16891072, 0.29271125,\n",
       "       0.42060749, 0.48144947, 0.21489889, 0.31566286, 0.3252848 ,\n",
       "       0.2814939 , 0.30148505, 0.46266179, 0.1758686 , 0.32436153,\n",
       "       0.25110489, 0.38200304, 0.27301705, 0.35573648, 0.15595686,\n",
       "       0.1428985 , 0.49023039, 0.15372522, 0.35371118, 0.45624395,\n",
       "       0.4427296 , 0.32233651, 0.48594057, 0.42002928, 0.30854072,\n",
       "       0.39448116, 0.29103374, 0.31493308, 0.16056523, 0.15576114])"
      ]
     },
     "execution_count": 9,
     "metadata": {
      "tags": []
     },
     "output_type": "execute_result"
    }
   ],
   "source": [
    "hidden = sigmoid(np.dot(features_test, weights_input_hidden))\n",
    "out = sigmoid(np.dot(hidden, weights_hidden_output))\n",
    "out"
   ]
  },
  {
   "cell_type": "markdown",
   "metadata": {
    "colab_type": "text",
    "id": "dh5TyOPB8U5F"
   },
   "source": [
    "## Predict"
   ]
  },
  {
   "cell_type": "code",
   "execution_count": 0,
   "metadata": {
    "colab": {
     "base_uri": "https://localhost:8080/",
     "height": 170
    },
    "colab_type": "code",
    "id": "pl20zl498VA0",
    "outputId": "0612fd17-68e9-4335-b3dd-e5d8afc5ed4b"
   },
   "outputs": [
    {
     "data": {
      "text/plain": [
       "array([False, False, False, False, False, False, False, False, False,\n",
       "       False, False, False, False, False, False, False, False, False,\n",
       "       False, False, False, False, False, False, False, False, False,\n",
       "       False, False, False, False, False, False, False, False, False,\n",
       "       False, False, False, False, False, False, False, False, False,\n",
       "       False, False, False, False, False, False, False, False, False,\n",
       "       False, False, False, False, False, False, False, False, False,\n",
       "       False, False, False, False, False, False, False, False, False,\n",
       "       False, False, False, False, False, False, False, False])"
      ]
     },
     "execution_count": 10,
     "metadata": {
      "tags": []
     },
     "output_type": "execute_result"
    }
   ],
   "source": [
    "predictions = out > 0.5\n",
    "predictions"
   ]
  },
  {
   "cell_type": "markdown",
   "metadata": {
    "colab_type": "text",
    "id": "W7kIxkEk8gG3"
   },
   "source": [
    "## Compute accuracy"
   ]
  },
  {
   "cell_type": "code",
   "execution_count": 0,
   "metadata": {
    "colab": {
     "base_uri": "https://localhost:8080/",
     "height": 34
    },
    "colab_type": "code",
    "id": "RUTUD7wr7q2x",
    "outputId": "6f00cb6d-67c3-4a4b-f766-05d00d8c03a8"
   },
   "outputs": [
    {
     "name": "stdout",
     "output_type": "stream",
     "text": [
      "Prediction accuracy: 0.713\n"
     ]
    }
   ],
   "source": [
    "accuracy = np.mean(predictions == targets_test)\n",
    "print(\"Prediction accuracy: {:.3f}\".format(accuracy))"
   ]
  },
  {
   "cell_type": "code",
   "execution_count": 0,
   "metadata": {
    "colab": {},
    "colab_type": "code",
    "id": "RBl8qe348i9Z"
   },
   "outputs": [],
   "source": []
  }
 ],
 "metadata": {
  "colab": {
   "collapsed_sections": [],
   "name": "Backpropagation Complete Example - Solution",
   "provenance": [],
   "toc_visible": true,
   "version": "0.3.2"
  },
  "kernelspec": {
   "display_name": "Python [default]",
   "language": "python",
   "name": "python3"
  },
  "language_info": {
   "codemirror_mode": {
    "name": "ipython",
    "version": 3
   },
   "file_extension": ".py",
   "mimetype": "text/x-python",
   "name": "python",
   "nbconvert_exporter": "python",
   "pygments_lexer": "ipython3",
   "version": "3.5.6"
  }
 },
 "nbformat": 4,
 "nbformat_minor": 1
}
